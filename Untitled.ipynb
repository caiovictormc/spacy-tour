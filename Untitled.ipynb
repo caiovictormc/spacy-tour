{
 "cells": [
  {
   "cell_type": "code",
   "execution_count": 1,
   "metadata": {
    "collapsed": true
   },
   "outputs": [],
   "source": [
    "import spacy"
   ]
  },
  {
   "cell_type": "code",
   "execution_count": 2,
   "metadata": {
    "collapsed": true
   },
   "outputs": [],
   "source": [
    "nlp = spacy.load('pt')"
   ]
  },
  {
   "cell_type": "code",
   "execution_count": 3,
   "metadata": {
    "collapsed": true
   },
   "outputs": [],
   "source": [
    "doc = nlp(u'Caio é um rapaz muito bonito e pobre')"
   ]
  },
  {
   "cell_type": "code",
   "execution_count": 4,
   "metadata": {},
   "outputs": [
    {
     "name": "stdout",
     "output_type": "stream",
     "text": [
      "Caio\n",
      "é\n",
      "um\n",
      "rapaz\n",
      "muito\n",
      "bonito\n",
      "e\n",
      "pobre\n"
     ]
    }
   ],
   "source": [
    "for token in doc:\n",
    "    print(token.text)"
   ]
  },
  {
   "cell_type": "code",
   "execution_count": 5,
   "metadata": {},
   "outputs": [
    {
     "name": "stdout",
     "output_type": "stream",
     "text": [
      "Caio caio PROPN PROP|M|S|@SUBJ> nsubj Xxxx True False\n",
      "é ser VERB <mv>|V|PR|3S|IND|@FS-STA cop x True True\n",
      "um um DET <arti>|ART|M|S|@>N det xx True True\n",
      "rapaz rapaz NOUN <np-idf>|N|M|S|@<SC ROOT xxxx True False\n",
      "muito muito ADV <quant>|ADV|@>A advmod xxxx True True\n",
      "bonito bonito ADJ <first-cjt>|ADJ|M|S|@N< amod xxxx True False\n",
      "e e CCONJ <co-postnom>|KC|@CO cc x True False\n",
      "pobre pobre ADJ <cjt>|ADJ|M|S|@N< conj xxxx True False\n"
     ]
    }
   ],
   "source": [
    "for token in doc:\n",
    "    print(token.text, token.lemma_, token.pos_, token.tag_, token.dep_,\n",
    "          token.shape_, token.is_alpha, token.is_stop)"
   ]
  },
  {
   "cell_type": "code",
   "execution_count": 55,
   "metadata": {},
   "outputs": [
    {
     "name": "stdout",
     "output_type": "stream",
     "text": [
      "Caio 0 4 PER\n",
      "Aeroporto Petronio Portela 53 79 LOC\n"
     ]
    }
   ],
   "source": [
    "doc = nlp(u'Caio é um rapaz muito bonito e pobre que trabalha no Aeroporto Petronio Portela')\n",
    "\n",
    "for ent in doc.ents:\n",
    "    print(ent.text, ent.start_char, ent.end_char, ent.label_)"
   ]
  },
  {
   "cell_type": "code",
   "execution_count": 17,
   "metadata": {},
   "outputs": [
    {
     "name": "stdout",
     "output_type": "stream",
     "text": [
      "Quero ir de 0 11 MISC\n",
      "Teresina 12 20 LOC\n",
      "Paris 26 31 LOC\n"
     ]
    }
   ],
   "source": [
    "doc = nlp(u'Quero ir de Teresina para Paris')\n",
    "\n",
    "for ent in doc.ents:\n",
    "    print(ent.text, ent.start_char, ent.end_char, ent.label_)"
   ]
  },
  {
   "cell_type": "code",
   "execution_count": 18,
   "metadata": {},
   "outputs": [
    {
     "name": "stdout",
     "output_type": "stream",
     "text": [
      "1.0\n",
      "0.484317\n",
      "0.124764\n",
      "0.484317\n",
      "1.0\n",
      "0.37698\n",
      "0.124764\n",
      "0.37698\n",
      "1.0\n"
     ]
    }
   ],
   "source": [
    "tokens = nlp(u'gato macaco pavão')\n",
    "\n",
    "for token1 in tokens:\n",
    "    for token2 in tokens:\n",
    "        print(token1.similarity(token2))"
   ]
  },
  {
   "cell_type": "code",
   "execution_count": 29,
   "metadata": {},
   "outputs": [
    {
     "name": "stdout",
     "output_type": "stream",
     "text": [
      "2\n",
      "Na tentativa de não passar fome, nosso herói tenta insistir continuar brincando com computador.\n",
      "Até um dia a pobreza o cosumirá por completo\n"
     ]
    }
   ],
   "source": [
    "doc = nlp(u'Na tentativa de não passar fome, nosso herói tenta insistir continuar brincando com computador. Até um dia a pobreza o cosumirá por completo')\n",
    "sentences = list(doc.sents)\n",
    "print(len(sentences))\n",
    "print(sentences[0].text)\n",
    "print(sentences[1].text)"
   ]
  },
  {
   "cell_type": "code",
   "execution_count": 33,
   "metadata": {},
   "outputs": [
    {
     "name": "stdout",
     "output_type": "stream",
     "text": [
      "[('Teresina', 0, 8, 'LOC')]\n"
     ]
    }
   ],
   "source": [
    "doc = nlp(u'Teresina é uma cidade muito peba')\n",
    "ents = [(ent.text, ent.start_char, ent.end_char, ent.label_) for ent in doc.ents]\n",
    "print(ents)"
   ]
  },
  {
   "cell_type": "code",
   "execution_count": null,
   "metadata": {},
   "outputs": [
    {
     "name": "stdout",
     "output_type": "stream",
     "text": [
      "\n",
      "\u001b[93m    Serving on port 8181...\u001b[0m\n",
      "    Using the 'dep' visualizer\n",
      "\n"
     ]
    }
   ],
   "source": [
    "from spacy import displacy\n",
    "\n",
    "doc_dep  = nlp(u'Isto é uma sentença')\n",
    "displacy.serve(doc_dep, style='dep', port=8181)\n",
    "\n",
    "doc_ent = nlp(u'Quando comecei a programar não sabia que iria passar fome')\n",
    "displacy.serve(doc_ent, style='ent', port=8181)"
   ]
  },
  {
   "cell_type": "code",
   "execution_count": null,
   "metadata": {
    "collapsed": true
   },
   "outputs": [],
   "source": []
  }
 ],
 "metadata": {
  "kernelspec": {
   "display_name": "Python 3",
   "language": "python",
   "name": "python3"
  },
  "language_info": {
   "codemirror_mode": {
    "name": "ipython",
    "version": 3
   },
   "file_extension": ".py",
   "mimetype": "text/x-python",
   "name": "python",
   "nbconvert_exporter": "python",
   "pygments_lexer": "ipython3",
   "version": "3.6.0"
  }
 },
 "nbformat": 4,
 "nbformat_minor": 2
}
